{
 "cells": [
  {
   "cell_type": "code",
   "execution_count": 1,
   "id": "edb0fa30",
   "metadata": {},
   "outputs": [],
   "source": [
    "import numpy as np\n",
    "import tensorflow as tf\n",
    "import matplotlib.pyplot as plt\n",
    "from tensorflow import keras\n",
    "from tensorflow.keras import layers"
   ]
  },
  {
   "cell_type": "code",
   "execution_count": 2,
   "id": "b67bc43f",
   "metadata": {},
   "outputs": [
    {
     "name": "stdout",
     "output_type": "stream",
     "text": [
      "Training data shape: (60000, 28, 28) (60000,)\n",
      "Test data shape: (10000, 28, 28) (10000,)\n"
     ]
    }
   ],
   "source": [
    "# Load the MNIST dataset using TensorFlow\n",
    "(x_train, y_train), (x_test, y_test) = tf.keras.datasets.mnist.load_data()\n",
    "# Display the shapes of the training and test datasets\n",
    "print(\"Training data shape:\", x_train.shape, y_train.shape)\n",
    "print(\"Test data shape:\", x_test.shape, y_test.shape)\n",
    "\n",
    "# reshape data as 2D numpy arrays\n",
    "# convert to float32 and normalize grayscale for better num. representation\n",
    "x_train = x_train.reshape(60000, 784).astype(\"float32\") / 255\n",
    "x_test = x_test.reshape(10000, 784).astype(\"float32\") / 255\n",
    "\n",
    "y_train = y_train.astype(\"float32\")\n",
    "y_test = y_test.astype(\"float32\")\n",
    "\n",
    "# The tutorial reserved 10.000 training samples for validation, we change to 5.000 \n",
    "# as that is what Frankle and Carbin did in their paper\n",
    "x_val = x_train[-5000:]\n",
    "y_val = y_train[-5000:]\n",
    "x_train = x_train[:-5000]\n",
    "y_train = y_train[:-5000]"
   ]
  },
  {
   "cell_type": "code",
   "execution_count": 3,
   "id": "9e600d22",
   "metadata": {},
   "outputs": [],
   "source": [
    "# Hyperparams\n",
    "batch_size = 60 # batchsize, 60 images per weight update\n",
    "epochs = 10 # nr. of epochs we train our models\n",
    "validation_split = 1/11 # 5000 val 55000 train data\n",
    "input_dim = 784 # input_distribution size for MINE\n",
    "d1_dim = 100 # first hidden layer distribution size for MINE\n",
    "d2_dim = 30 # second hidden layer distribution size for MINE\n",
    "output_dim = 10 # output_distribution dim for MINE\n",
    "pruning_rate = 0.4 # pruning rate for LTH iterative Pruning -> removes pruning_rate% of lowest magnitude weights in an iteration\n",
    "pruning_iterations = 7 # number of iterations for applying the pruning rate iteratively -> 1 time : 20% sparse, 13 times : ~95% sparse\n",
    "averaging_iterations = 5 # number of total experimental runs to average for graph representations"
   ]
  },
  {
   "cell_type": "code",
   "execution_count": 4,
   "id": "7ea0ee20",
   "metadata": {},
   "outputs": [
    {
     "name": "stdout",
     "output_type": "stream",
     "text": [
      "Model: \"model\"\n",
      "_________________________________________________________________\n",
      " Layer (type)                Output Shape              Param #   \n",
      "=================================================================\n",
      " digits (InputLayer)         [(None, 784)]             0         \n",
      "                                                                 \n",
      " dense_1 (Dense)             (None, 100)               78500     \n",
      "                                                                 \n",
      " dense_2 (Dense)             (None, 30)                3030      \n",
      "                                                                 \n",
      " predictions (Dense)         (None, 10)                310       \n",
      "                                                                 \n",
      "=================================================================\n",
      "Total params: 81,840\n",
      "Trainable params: 81,840\n",
      "Non-trainable params: 0\n",
      "_________________________________________________________________\n"
     ]
    }
   ],
   "source": [
    "tf.keras.backend.clear_session() # clearing backend right at start, just in case\n",
    "\n",
    "inputs = keras.Input(shape=(input_dim,), name=\"digits\") # Functional build of a 2-hidden layer fully connected MLP\n",
    "x = layers.Dense(d1_dim, activation=\"relu\", name=\"dense_1\")(inputs) # methods made no mention of the activaton function specifically\n",
    "x = layers.Dense(d2_dim, activation=\"relu\", name=\"dense_2\")(x) # ReLU is standard, as all available implementations seem to use it too\n",
    "outputs = layers.Dense(output_dim, activation=\"softmax\", name=\"predictions\")(x)  # softmax activation for multi-class classification\n",
    "\n",
    "base_model = keras.Model(inputs=inputs, outputs=outputs)\n",
    "base_model.summary()"
   ]
  },
  {
   "cell_type": "code",
   "execution_count": 5,
   "id": "7926840e",
   "metadata": {},
   "outputs": [],
   "source": [
    "# we save the model with the initial weights for later use here\n",
    "init_model = keras.models.clone_model(base_model)\n",
    "init_weights = base_model.get_weights()\n",
    "base_model.save_weights('init_weights.h5') # saving initial weights for later use"
   ]
  },
  {
   "cell_type": "code",
   "execution_count": 6,
   "id": "d8919927",
   "metadata": {},
   "outputs": [
    {
     "name": "stdout",
     "output_type": "stream",
     "text": [
      "Fit model on training data\n",
      "\n",
      "\n",
      "313/313 [==============================] - 0s 757us/step - loss: 0.0904 - sparse_categorical_accuracy: 0.9757\n",
      "fully connected model, trained: loss: 0.0904313251376152 acc: 0.9757000207901001\n"
     ]
    }
   ],
   "source": [
    "# fully-connected trained\n",
    "# train model, save for later\n",
    "print(\"Fit model on training data\")\n",
    "model = keras.models.clone_model(base_model)\n",
    "model.compile(optimizer=keras.optimizers.Adam(learning_rate=1.2e-3), # Adam optimizer, lr=0.0012\n",
    "                  # Loss function to minimize\n",
    "                  loss=keras.losses.SparseCategoricalCrossentropy(), # multi-class classification loss function\n",
    "                  # List of metrics to monitor\n",
    "                  metrics=[keras.metrics.SparseCategoricalAccuracy()],\n",
    "                 )\n",
    "\n",
    "\n",
    "history = model.fit(x_train,\n",
    "                    y_train,\n",
    "                    batch_size=batch_size,\n",
    "                    epochs=epochs,\n",
    "                    verbose=0,\n",
    "                    validation_data=(x_val, y_val),\n",
    "                    )\n",
    "print(\"\")\n",
    "print(\"\")\n",
    "trained_loss, trained_accuracy = model.evaluate(x_test, y_test)\n",
    "print(\"fully connected model, trained: \" + \"loss: \" + str(trained_loss) + \" acc: \" + str(trained_accuracy))"
   ]
  },
  {
   "cell_type": "code",
   "execution_count": 7,
   "id": "fbde53e6",
   "metadata": {},
   "outputs": [],
   "source": [
    "model.save_weights(\"trained_weights.h5\") # saving trained weights for later use"
   ]
  }
 ],
 "metadata": {
  "kernelspec": {
   "display_name": "Python 3 (ipykernel)",
   "language": "python",
   "name": "python3"
  },
  "language_info": {
   "codemirror_mode": {
    "name": "ipython",
    "version": 3
   },
   "file_extension": ".py",
   "mimetype": "text/x-python",
   "name": "python",
   "nbconvert_exporter": "python",
   "pygments_lexer": "ipython3",
   "version": "3.10.9"
  }
 },
 "nbformat": 4,
 "nbformat_minor": 5
}
